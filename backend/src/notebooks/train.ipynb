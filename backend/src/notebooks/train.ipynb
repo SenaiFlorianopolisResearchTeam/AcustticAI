{
 "cells": [
  {
   "cell_type": "markdown",
   "id": "acec6814",
   "metadata": {},
   "source": [
    "# YOLO Training Pipeline\n",
    "\n",
    "Este notebook executa o pipeline de treinamento YOLO com MLFlow usando as configurações do settings.py"
   ]
  },
  {
   "cell_type": "markdown",
   "id": "6dd45c17",
   "metadata": {},
   "source": [
    "## 1. Setup e Configuração Inicial"
   ]
  },
  {
   "cell_type": "code",
   "execution_count": 1,
   "id": "1d05cfe1",
   "metadata": {},
   "outputs": [
    {
     "name": "stdout",
     "output_type": "stream",
     "text": [
      "/home/fullzer4/Codes/AcustticAI/backend/src/notebooks\n",
      "/home/fullzer4/Codes/AcustticAI/backend/src/app\n",
      "/home/fullzer4/Codes/AcustticAI/backend/src/app\n"
     ]
    }
   ],
   "source": [
    "import os\n",
    "import sys\n",
    "from pathlib import Path\n",
    "\n",
    "current_dir = Path.cwd()\n",
    "app_dir = current_dir / \"../app\"\n",
    "sys.path.insert(0, str(app_dir.resolve()))\n",
    "\n",
    "original_cwd = os.getcwd()\n",
    "os.chdir(app_dir)\n",
    "\n",
    "print(f\"{original_cwd}\")\n",
    "print(f\"{os.getcwd()}\")\n",
    "print(f\"{app_dir.resolve()}\")"
   ]
  },
  {
   "cell_type": "code",
   "execution_count": null,
   "id": "56962aa2",
   "metadata": {},
   "outputs": [],
   "source": []
  }
 ],
 "metadata": {
  "kernelspec": {
   "display_name": ".venv",
   "language": "python",
   "name": "python3"
  },
  "language_info": {
   "codemirror_mode": {
    "name": "ipython",
    "version": 3
   },
   "file_extension": ".py",
   "mimetype": "text/x-python",
   "name": "python",
   "nbconvert_exporter": "python",
   "pygments_lexer": "ipython3",
   "version": "3.13.1"
  }
 },
 "nbformat": 4,
 "nbformat_minor": 5
}
